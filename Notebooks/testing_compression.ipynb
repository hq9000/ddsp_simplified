{
 "cells": [
  {
   "cell_type": "code",
   "execution_count": 1,
   "id": "bba1f8fd-1a60-470a-b728-153e031978af",
   "metadata": {},
   "outputs": [],
   "source": [
    "import sys\n",
    "sys.path.append('D:\\home\\sergey\\infinite_album\\guitar_synth\\ddsp_simplified')\n",
    "sys.path.append('D:\\home\\sergey\\infinite_album\\guitar_synth\\ddsp_simplified\\ddsp_simplified')"
   ]
  },
  {
   "cell_type": "code",
   "execution_count": 2,
   "id": "1dd9507e-ed4d-4674-a230-df938cbb505a",
   "metadata": {},
   "outputs": [],
   "source": [
    "from ddsp_simplified.dataloader import load_track, get_raw_midi_features_from_file"
   ]
  },
  {
   "cell_type": "code",
   "execution_count": 3,
   "id": "adb5762f-563d-4961-86a3-fe7089246c5b",
   "metadata": {},
   "outputs": [],
   "source": [
    "mp3_path = 'D:/home/sergey/infinite_album/guitar_synth/ddsp_simplified/ddsp_simplified/audio_clips/Red_Guitar_powerchords_gated_eqed_midi_adjusted_denormalized/red_guitar.mp3'\n",
    "midi_path = 'D:/home/sergey/infinite_album/guitar_synth/ddsp_simplified/ddsp_simplified/audio_clips/Red_Guitar_powerchords_gated_eqed_midi_adjusted_denormalized/red_guitar.MID'\n",
    "sample_rate = 16000\n",
    "frame_rate = 250"
   ]
  },
  {
   "cell_type": "code",
   "execution_count": 4,
   "id": "e3a8f8b7-1a65-4842-9244-88f192271575",
   "metadata": {},
   "outputs": [],
   "source": [
    "audio = load_track(path=mp3_path, sample_rate=sample_rate, pitch_shift=0)"
   ]
  },
  {
   "cell_type": "code",
   "execution_count": 5,
   "id": "cb64b861-3e12-4a95-bad7-cffdebaefaac",
   "metadata": {},
   "outputs": [],
   "source": [
    "midi = get_raw_midi_features_from_file(\n",
    "    path_to_midi_file=midi_path, \n",
    "    frame_rate=frame_rate, \n",
    "    audio_length_seconds=len(audio) / sample_rate, \n",
    "    only_these_features=['pitch', 'velocity']\n",
    ")"
   ]
  },
  {
   "cell_type": "code",
   "execution_count": 6,
   "id": "0e30c389-96ef-43af-9551-3b07813b5810",
   "metadata": {},
   "outputs": [],
   "source": [
    "from utils.dataset_compressor import DatasetCompressor\n",
    "compressor = DatasetCompressor()"
   ]
  },
  {
   "cell_type": "code",
   "execution_count": 7,
   "id": "dff2ffcf-7a5b-41bc-aec5-c663369d9eb9",
   "metadata": {},
   "outputs": [],
   "source": [
    "compressed_audio, compressed_midi = compressor.compress_data(\n",
    "    audio, \n",
    "    midi, \n",
    "    250,\n",
    "    16000, \n",
    "    int(0.2*frame_rate)\n",
    ");"
   ]
  },
  {
   "cell_type": "code",
   "execution_count": 8,
   "id": "24b32ce2-3e09-413c-b058-fe00edf50cec",
   "metadata": {},
   "outputs": [],
   "source": [
    "import matplotlib.pyplot as plt"
   ]
  },
  {
   "cell_type": "code",
   "execution_count": 9,
   "id": "5580d6a8-0b65-4b45-99df-93a7153ea50b",
   "metadata": {},
   "outputs": [
    {
     "data": {
      "text/plain": [
       "[<matplotlib.lines.Line2D at 0x2a6a810cb88>]"
      ]
     },
     "execution_count": 9,
     "metadata": {},
     "output_type": "execute_result"
    },
    {
     "data": {
      "image/png": "[encoded data removed]",
      "text/plain": [
       "<Figure size 432x288 with 1 Axes>"
      ]
     },
     "metadata": {
      "needs_background": "light"
     },
     "output_type": "display_data"
    }
   ],
   "source": [
    "plt.plot(audio)\n",
    "plt.plot(compressed_audio)"
   ]
  }
 ],
 "metadata": {
  "kernelspec": {
   "display_name": "Python 3 (ipykernel)",
   "language": "python",
   "name": "python3"
  },
  "language_info": {
   "codemirror_mode": {
    "name": "ipython",
    "version": 3
   },
   "file_extension": ".py",
   "mimetype": "text/x-python",
   "name": "python",
   "nbconvert_exporter": "python",
   "pygments_lexer": "ipython3",
   "version": "3.7.8"
  }
 },
 "nbformat": 4,
 "nbformat_minor": 5
}
