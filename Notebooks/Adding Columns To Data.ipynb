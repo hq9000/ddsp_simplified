{
 "cells": [
  {
   "cell_type": "code",
   "execution_count": 1,
   "metadata": {},
   "outputs": [],
   "source": [
    "%load_ext autoreload\n",
    "%autoreload 2\n",
    "from tqdm.notebook import tqdm\n",
    "from dataloader import *\n",
    "import os\n",
    "import numpy as np\n",
    "from concurrent.futures import ThreadPoolExecutor\n",
    "\n",
    "def write_batch(batch, batch_nr, batch_size, path):\n",
    "    curr = 0\n",
    "    items = batch.items()\n",
    "    num_samples_in_batch = batch[\"audio\"].numpy().shape[0]\n",
    "    for i in range(num_samples_in_batch):\n",
    "        dct = {k:v[i] for k,v in items}\n",
    "        np.savez(os.path.join(path,\"{}.npz\".format(batch_nr*batch_size+curr)), **dct)\n",
    "        curr += 1\n",
    "\n",
    "def create_numpy_sets(override = False):\n",
    "    batch_size = 256\n",
    "    datasets = make_datasets_original(batch_size, True, True, percent=100)\n",
    "    names = [\"train\",\"validation\",\"test\"]\n",
    "    sizes = [60788, 17469, 8518]\n",
    "    for ds,path,size in zip(datasets,names,sizes):\n",
    "        print(\"Preparing\",path)\n",
    "        batch_nr = 0\n",
    "        path = os.path.join(\"data\",path)\n",
    "        if override and os.path.exists(path):\n",
    "            os.system(\"rm -rf {}\".format(path))\n",
    "        os.makedirs(path,exist_ok=True)\n",
    "       \n",
    "        for batch in tqdm(iter(ds), total=np.ceil(size/batch_size)):\n",
    "            # write batch\n",
    "            with ThreadPoolExecutor(max_workers=5) as executor:\n",
    "                executor.submit(write_batch, batch, batch_nr, batch_size, path)\n",
    "                batch_nr+=1"
   ]
  },
  {
   "cell_type": "code",
   "execution_count": 2,
   "metadata": {},
   "outputs": [],
   "source": [
    "#create_numpy_sets(override=True)"
   ]
  },
  {
   "cell_type": "code",
   "execution_count": 8,
   "metadata": {},
   "outputs": [],
   "source": [
    "train_set,val_set,test_set = make_datasets(64)"
   ]
  },
  {
   "cell_type": "code",
   "execution_count": 10,
   "metadata": {},
   "outputs": [
    {
     "name": "stdout",
     "output_type": "stream",
     "text": [
      "7.194952170054118\n"
     ]
    }
   ],
   "source": [
    "import time\n",
    "start = time.time()\n",
    "for batch in train_set.take(10):\n",
    "    continue\n",
    "stop = time.time()\n",
    "print((stop-start)*100/60)"
   ]
  },
  {
   "cell_type": "code",
   "execution_count": null,
   "metadata": {},
   "outputs": [],
   "source": []
  }
 ],
 "metadata": {
  "kernelspec": {
   "display_name": "Python 3",
   "language": "python",
   "name": "python3"
  }
 },
 "nbformat": 4,
 "nbformat_minor": 4
}
